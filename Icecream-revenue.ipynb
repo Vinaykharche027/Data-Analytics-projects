{
 "cells": [
  {
   "cell_type": "markdown",
   "metadata": {},
   "source": [
    "## Ice cream Revenue Prediction"
   ]
  },
  {
   "cell_type": "markdown",
   "metadata": {},
   "source": [
    "Importing Libraries"
   ]
  },
  {
   "cell_type": "code",
   "execution_count": 1,
   "metadata": {},
   "outputs": [],
   "source": [
    "import pandas as pd\n",
    "from sklearn.model_selection import train_test_split\n",
    "from sklearn.linear_model import LinearRegression"
   ]
  },
  {
   "cell_type": "markdown",
   "metadata": {},
   "source": [
    "define dataset"
   ]
  },
  {
   "cell_type": "code",
   "execution_count": 2,
   "metadata": {},
   "outputs": [],
   "source": [
    "ice_cream = pd.read_csv(\"https://github.com/ybifoundation/Dataset/raw/main/Ice%20Cream.csv\")"
   ]
  },
  {
   "cell_type": "markdown",
   "metadata": {},
   "source": [
    "defining target and features"
   ]
  },
  {
   "cell_type": "code",
   "execution_count": 3,
   "metadata": {},
   "outputs": [
    {
     "data": {
      "text/plain": [
       "Index(['Temperature', 'Revenue'], dtype='object')"
      ]
     },
     "execution_count": 3,
     "metadata": {},
     "output_type": "execute_result"
    }
   ],
   "source": [
    "ice_cream.columns"
   ]
  },
  {
   "cell_type": "code",
   "execution_count": 4,
   "metadata": {},
   "outputs": [],
   "source": [
    "x = ice_cream['Temperature']\n",
    "y = ice_cream['Revenue']"
   ]
  },
  {
   "cell_type": "markdown",
   "metadata": {},
   "source": [
    "Spliting dataset"
   ]
  },
  {
   "cell_type": "code",
   "execution_count": 5,
   "metadata": {},
   "outputs": [],
   "source": [
    "x_train, x_test, y_train, y_test = train_test_split(x,y, train_size=0.7, random_state=15)"
   ]
  },
  {
   "cell_type": "code",
   "execution_count": 6,
   "metadata": {},
   "outputs": [
    {
     "data": {
      "text/plain": [
       "((350,), (150,), (350,), (150,))"
      ]
     },
     "execution_count": 6,
     "metadata": {},
     "output_type": "execute_result"
    }
   ],
   "source": [
    "x_train.shape, x_test.shape, y_train.shape, y_test.shape"
   ]
  },
  {
   "cell_type": "markdown",
   "metadata": {},
   "source": [
    "Model selection"
   ]
  },
  {
   "cell_type": "code",
   "execution_count": 7,
   "metadata": {},
   "outputs": [],
   "source": [
    "model = LinearRegression()"
   ]
  },
  {
   "cell_type": "code",
   "execution_count": 8,
   "metadata": {},
   "outputs": [
    {
     "ename": "ValueError",
     "evalue": "Expected 2D array, got 1D array instead:\narray=[12.5 32.3 32.5 27.  16.4 26.9 21.6 27.8 14.9 24.8 21.5 30.4 22.3 16.1\n 21.  18.6 19.2 12.2 13.  12.8 18.9 21.3 26.2 12.6 29.6 27.2  7.3 28.7\n 27.8 27.8 32.1 29.5 17.  18.   9.1 21.  25.1 16.  24.  19.8 11.6 28.3\n 24.9  9.1 18.2 10.  22.4 17.7 20.1 23.1 14.7 40.4 20.6 22.3 18.5 23.4\n 11.6 12.4 33.3 22.7 19.5 28.4 34.9 24.8 21.   5.4 27.6 19.8 19.7  8.7\n 15.3 19.5 19.9 30.9 22.  28.7  7.8 22.9 34.5 17.1 20.  24.2 11.2 29.8\n 37.  26.5 23.4 19.7 25.9  6.4 28.5 23.1 35.5 17.6 10.2 10.1 16.6 21.8\n 25.5 19.  29.9 27.9 32.1 31.3 25.2 27.6 12.3 28.8 22.4 12.7  9.4 21.7\n 29.4 31.2 30.1 29.2 15.2 28.9 22.1 24.5 26.9 19.2 33.4 21.4 13.4 14.4\n 16.4 19.8 24.6 33.3  8.8 30.7 28.8  6.8 21.8  8.8 33.8 25.5 14.4 35.3\n 12.4 21.1 22.7 39.9 38.2  6.1 36.8 17.3 27.8 18.2 13.4 33.6 15.7 28.6\n 30.5 38.7 23.2 26.2 33.6 35.5 25.5 21.4 11.5 15.6 24.6 22.6 24.4 15.2\n 24.  31.1 17.7 14.2 26.2 27.1 25.5 18.8 12.1 23.5 29.8  5.4  7.6 25.5\n  4.9 23.5 29.  36.6 26.3 27.   8.8 28.9 17.6 21.5 24.2 25.4 20.5  7.2\n 22.7 17.4 32.9 27.  14.4 24.6 31.7 13.2 29.  24.  20.3 29.2 16.6  4.\n 40.5 24.5  9.8 10.  22.2 20.9 15.1 23.9 19.2 18.6 38.7 24.6 25.2 27.6\n 24.5 24.4 17.2 17.7 35.7 11.1 19.  10.3 30.6 28.5 17.2 17.6 32.2 17.5\n  9.  31.  20.2 22.2 39.6 28.8 26.  21.   0.  24.3 42.   7.3 19.1 14.9\n 25.6 22.2 27.2 25.3 25.5 30.5 26.  35.4 35.1 22.3 13.4 27.2 12.3 22.5\n 27.2 14.8 18.8 17.2 23.5 21.7 15.6 20.  18.4 25.8 29.4 15.9 35.2 28.\n 22.3 28.8 11.2  9.6 15.7 28.5 15.1 12.5  4.3 26.2 19.9 22.7 21.1 30.3\n 14.6 20.9 26.6 21.9 22.7 32.8 26.4  8.8 23.5 19.8 19.3 32.5 29.3 30.3\n 21.2 27.  20.3 27.3 26.1 27.  18.9 25.2 18.5 14.3 24.9 28.3 45.  16.2\n  5.9 21.8 27.2 17.1 29.8  9.9 19.3 18.6 28.3 20.6 16.3 20.1 30.  42.6\n 18.7 24.2 11.1 16.4 10.5 25.3 21.2 18.9 25.1 29.3 20.2  7.4 14.3 37.2].\nReshape your data either using array.reshape(-1, 1) if your data has a single feature or array.reshape(1, -1) if it contains a single sample.",
     "output_type": "error",
     "traceback": [
      "\u001b[1;31m---------------------------------------------------------------------------\u001b[0m",
      "\u001b[1;31mValueError\u001b[0m                                Traceback (most recent call last)",
      "\u001b[1;32me:\\YBI internship project\\Icecream-revenue.ipynb Cell 14\u001b[0m line \u001b[0;36m1\n\u001b[1;32m----> <a href='vscode-notebook-cell:/e%3A/YBI%20internship%20project/Icecream-revenue.ipynb#X10sZmlsZQ%3D%3D?line=0'>1</a>\u001b[0m model\u001b[39m.\u001b[39;49mfit(x_train,x_test)\n",
      "File \u001b[1;32m~\\AppData\\Local\\Packages\\PythonSoftwareFoundation.Python.3.10_qbz5n2kfra8p0\\LocalCache\\local-packages\\Python310\\site-packages\\sklearn\\linear_model\\_base.py:649\u001b[0m, in \u001b[0;36mLinearRegression.fit\u001b[1;34m(self, X, y, sample_weight)\u001b[0m\n\u001b[0;32m    645\u001b[0m n_jobs_ \u001b[39m=\u001b[39m \u001b[39mself\u001b[39m\u001b[39m.\u001b[39mn_jobs\n\u001b[0;32m    647\u001b[0m accept_sparse \u001b[39m=\u001b[39m \u001b[39mFalse\u001b[39;00m \u001b[39mif\u001b[39;00m \u001b[39mself\u001b[39m\u001b[39m.\u001b[39mpositive \u001b[39melse\u001b[39;00m [\u001b[39m\"\u001b[39m\u001b[39mcsr\u001b[39m\u001b[39m\"\u001b[39m, \u001b[39m\"\u001b[39m\u001b[39mcsc\u001b[39m\u001b[39m\"\u001b[39m, \u001b[39m\"\u001b[39m\u001b[39mcoo\u001b[39m\u001b[39m\"\u001b[39m]\n\u001b[1;32m--> 649\u001b[0m X, y \u001b[39m=\u001b[39m \u001b[39mself\u001b[39;49m\u001b[39m.\u001b[39;49m_validate_data(\n\u001b[0;32m    650\u001b[0m     X, y, accept_sparse\u001b[39m=\u001b[39;49maccept_sparse, y_numeric\u001b[39m=\u001b[39;49m\u001b[39mTrue\u001b[39;49;00m, multi_output\u001b[39m=\u001b[39;49m\u001b[39mTrue\u001b[39;49;00m\n\u001b[0;32m    651\u001b[0m )\n\u001b[0;32m    653\u001b[0m sample_weight \u001b[39m=\u001b[39m _check_sample_weight(\n\u001b[0;32m    654\u001b[0m     sample_weight, X, dtype\u001b[39m=\u001b[39mX\u001b[39m.\u001b[39mdtype, only_non_negative\u001b[39m=\u001b[39m\u001b[39mTrue\u001b[39;00m\n\u001b[0;32m    655\u001b[0m )\n\u001b[0;32m    657\u001b[0m X, y, X_offset, y_offset, X_scale \u001b[39m=\u001b[39m _preprocess_data(\n\u001b[0;32m    658\u001b[0m     X,\n\u001b[0;32m    659\u001b[0m     y,\n\u001b[1;32m   (...)\u001b[0m\n\u001b[0;32m    662\u001b[0m     sample_weight\u001b[39m=\u001b[39msample_weight,\n\u001b[0;32m    663\u001b[0m )\n",
      "File \u001b[1;32m~\\AppData\\Local\\Packages\\PythonSoftwareFoundation.Python.3.10_qbz5n2kfra8p0\\LocalCache\\local-packages\\Python310\\site-packages\\sklearn\\base.py:554\u001b[0m, in \u001b[0;36mBaseEstimator._validate_data\u001b[1;34m(self, X, y, reset, validate_separately, **check_params)\u001b[0m\n\u001b[0;32m    552\u001b[0m         y \u001b[39m=\u001b[39m check_array(y, input_name\u001b[39m=\u001b[39m\u001b[39m\"\u001b[39m\u001b[39my\u001b[39m\u001b[39m\"\u001b[39m, \u001b[39m*\u001b[39m\u001b[39m*\u001b[39mcheck_y_params)\n\u001b[0;32m    553\u001b[0m     \u001b[39melse\u001b[39;00m:\n\u001b[1;32m--> 554\u001b[0m         X, y \u001b[39m=\u001b[39m check_X_y(X, y, \u001b[39m*\u001b[39m\u001b[39m*\u001b[39mcheck_params)\n\u001b[0;32m    555\u001b[0m     out \u001b[39m=\u001b[39m X, y\n\u001b[0;32m    557\u001b[0m \u001b[39mif\u001b[39;00m \u001b[39mnot\u001b[39;00m no_val_X \u001b[39mand\u001b[39;00m check_params\u001b[39m.\u001b[39mget(\u001b[39m\"\u001b[39m\u001b[39mensure_2d\u001b[39m\u001b[39m\"\u001b[39m, \u001b[39mTrue\u001b[39;00m):\n",
      "File \u001b[1;32m~\\AppData\\Local\\Packages\\PythonSoftwareFoundation.Python.3.10_qbz5n2kfra8p0\\LocalCache\\local-packages\\Python310\\site-packages\\sklearn\\utils\\validation.py:1104\u001b[0m, in \u001b[0;36mcheck_X_y\u001b[1;34m(X, y, accept_sparse, accept_large_sparse, dtype, order, copy, force_all_finite, ensure_2d, allow_nd, multi_output, ensure_min_samples, ensure_min_features, y_numeric, estimator)\u001b[0m\n\u001b[0;32m   1099\u001b[0m         estimator_name \u001b[39m=\u001b[39m _check_estimator_name(estimator)\n\u001b[0;32m   1100\u001b[0m     \u001b[39mraise\u001b[39;00m \u001b[39mValueError\u001b[39;00m(\n\u001b[0;32m   1101\u001b[0m         \u001b[39mf\u001b[39m\u001b[39m\"\u001b[39m\u001b[39m{\u001b[39;00mestimator_name\u001b[39m}\u001b[39;00m\u001b[39m requires y to be passed, but the target y is None\u001b[39m\u001b[39m\"\u001b[39m\n\u001b[0;32m   1102\u001b[0m     )\n\u001b[1;32m-> 1104\u001b[0m X \u001b[39m=\u001b[39m check_array(\n\u001b[0;32m   1105\u001b[0m     X,\n\u001b[0;32m   1106\u001b[0m     accept_sparse\u001b[39m=\u001b[39;49maccept_sparse,\n\u001b[0;32m   1107\u001b[0m     accept_large_sparse\u001b[39m=\u001b[39;49maccept_large_sparse,\n\u001b[0;32m   1108\u001b[0m     dtype\u001b[39m=\u001b[39;49mdtype,\n\u001b[0;32m   1109\u001b[0m     order\u001b[39m=\u001b[39;49morder,\n\u001b[0;32m   1110\u001b[0m     copy\u001b[39m=\u001b[39;49mcopy,\n\u001b[0;32m   1111\u001b[0m     force_all_finite\u001b[39m=\u001b[39;49mforce_all_finite,\n\u001b[0;32m   1112\u001b[0m     ensure_2d\u001b[39m=\u001b[39;49mensure_2d,\n\u001b[0;32m   1113\u001b[0m     allow_nd\u001b[39m=\u001b[39;49mallow_nd,\n\u001b[0;32m   1114\u001b[0m     ensure_min_samples\u001b[39m=\u001b[39;49mensure_min_samples,\n\u001b[0;32m   1115\u001b[0m     ensure_min_features\u001b[39m=\u001b[39;49mensure_min_features,\n\u001b[0;32m   1116\u001b[0m     estimator\u001b[39m=\u001b[39;49mestimator,\n\u001b[0;32m   1117\u001b[0m     input_name\u001b[39m=\u001b[39;49m\u001b[39m\"\u001b[39;49m\u001b[39mX\u001b[39;49m\u001b[39m\"\u001b[39;49m,\n\u001b[0;32m   1118\u001b[0m )\n\u001b[0;32m   1120\u001b[0m y \u001b[39m=\u001b[39m _check_y(y, multi_output\u001b[39m=\u001b[39mmulti_output, y_numeric\u001b[39m=\u001b[39my_numeric, estimator\u001b[39m=\u001b[39mestimator)\n\u001b[0;32m   1122\u001b[0m check_consistent_length(X, y)\n",
      "File \u001b[1;32m~\\AppData\\Local\\Packages\\PythonSoftwareFoundation.Python.3.10_qbz5n2kfra8p0\\LocalCache\\local-packages\\Python310\\site-packages\\sklearn\\utils\\validation.py:900\u001b[0m, in \u001b[0;36mcheck_array\u001b[1;34m(array, accept_sparse, accept_large_sparse, dtype, order, copy, force_all_finite, ensure_2d, allow_nd, ensure_min_samples, ensure_min_features, estimator, input_name)\u001b[0m\n\u001b[0;32m    898\u001b[0m     \u001b[39m# If input is 1D raise error\u001b[39;00m\n\u001b[0;32m    899\u001b[0m     \u001b[39mif\u001b[39;00m array\u001b[39m.\u001b[39mndim \u001b[39m==\u001b[39m \u001b[39m1\u001b[39m:\n\u001b[1;32m--> 900\u001b[0m         \u001b[39mraise\u001b[39;00m \u001b[39mValueError\u001b[39;00m(\n\u001b[0;32m    901\u001b[0m             \u001b[39m\"\u001b[39m\u001b[39mExpected 2D array, got 1D array instead:\u001b[39m\u001b[39m\\n\u001b[39;00m\u001b[39marray=\u001b[39m\u001b[39m{}\u001b[39;00m\u001b[39m.\u001b[39m\u001b[39m\\n\u001b[39;00m\u001b[39m\"\u001b[39m\n\u001b[0;32m    902\u001b[0m             \u001b[39m\"\u001b[39m\u001b[39mReshape your data either using array.reshape(-1, 1) if \u001b[39m\u001b[39m\"\u001b[39m\n\u001b[0;32m    903\u001b[0m             \u001b[39m\"\u001b[39m\u001b[39myour data has a single feature or array.reshape(1, -1) \u001b[39m\u001b[39m\"\u001b[39m\n\u001b[0;32m    904\u001b[0m             \u001b[39m\"\u001b[39m\u001b[39mif it contains a single sample.\u001b[39m\u001b[39m\"\u001b[39m\u001b[39m.\u001b[39mformat(array)\n\u001b[0;32m    905\u001b[0m         )\n\u001b[0;32m    907\u001b[0m \u001b[39mif\u001b[39;00m dtype_numeric \u001b[39mand\u001b[39;00m array\u001b[39m.\u001b[39mdtype\u001b[39m.\u001b[39mkind \u001b[39min\u001b[39;00m \u001b[39m\"\u001b[39m\u001b[39mUSV\u001b[39m\u001b[39m\"\u001b[39m:\n\u001b[0;32m    908\u001b[0m     \u001b[39mraise\u001b[39;00m \u001b[39mValueError\u001b[39;00m(\n\u001b[0;32m    909\u001b[0m         \u001b[39m\"\u001b[39m\u001b[39mdtype=\u001b[39m\u001b[39m'\u001b[39m\u001b[39mnumeric\u001b[39m\u001b[39m'\u001b[39m\u001b[39m is not compatible with arrays of bytes/strings.\u001b[39m\u001b[39m\"\u001b[39m\n\u001b[0;32m    910\u001b[0m         \u001b[39m\"\u001b[39m\u001b[39mConvert your data to numeric values explicitly instead.\u001b[39m\u001b[39m\"\u001b[39m\n\u001b[0;32m    911\u001b[0m     )\n",
      "\u001b[1;31mValueError\u001b[0m: Expected 2D array, got 1D array instead:\narray=[12.5 32.3 32.5 27.  16.4 26.9 21.6 27.8 14.9 24.8 21.5 30.4 22.3 16.1\n 21.  18.6 19.2 12.2 13.  12.8 18.9 21.3 26.2 12.6 29.6 27.2  7.3 28.7\n 27.8 27.8 32.1 29.5 17.  18.   9.1 21.  25.1 16.  24.  19.8 11.6 28.3\n 24.9  9.1 18.2 10.  22.4 17.7 20.1 23.1 14.7 40.4 20.6 22.3 18.5 23.4\n 11.6 12.4 33.3 22.7 19.5 28.4 34.9 24.8 21.   5.4 27.6 19.8 19.7  8.7\n 15.3 19.5 19.9 30.9 22.  28.7  7.8 22.9 34.5 17.1 20.  24.2 11.2 29.8\n 37.  26.5 23.4 19.7 25.9  6.4 28.5 23.1 35.5 17.6 10.2 10.1 16.6 21.8\n 25.5 19.  29.9 27.9 32.1 31.3 25.2 27.6 12.3 28.8 22.4 12.7  9.4 21.7\n 29.4 31.2 30.1 29.2 15.2 28.9 22.1 24.5 26.9 19.2 33.4 21.4 13.4 14.4\n 16.4 19.8 24.6 33.3  8.8 30.7 28.8  6.8 21.8  8.8 33.8 25.5 14.4 35.3\n 12.4 21.1 22.7 39.9 38.2  6.1 36.8 17.3 27.8 18.2 13.4 33.6 15.7 28.6\n 30.5 38.7 23.2 26.2 33.6 35.5 25.5 21.4 11.5 15.6 24.6 22.6 24.4 15.2\n 24.  31.1 17.7 14.2 26.2 27.1 25.5 18.8 12.1 23.5 29.8  5.4  7.6 25.5\n  4.9 23.5 29.  36.6 26.3 27.   8.8 28.9 17.6 21.5 24.2 25.4 20.5  7.2\n 22.7 17.4 32.9 27.  14.4 24.6 31.7 13.2 29.  24.  20.3 29.2 16.6  4.\n 40.5 24.5  9.8 10.  22.2 20.9 15.1 23.9 19.2 18.6 38.7 24.6 25.2 27.6\n 24.5 24.4 17.2 17.7 35.7 11.1 19.  10.3 30.6 28.5 17.2 17.6 32.2 17.5\n  9.  31.  20.2 22.2 39.6 28.8 26.  21.   0.  24.3 42.   7.3 19.1 14.9\n 25.6 22.2 27.2 25.3 25.5 30.5 26.  35.4 35.1 22.3 13.4 27.2 12.3 22.5\n 27.2 14.8 18.8 17.2 23.5 21.7 15.6 20.  18.4 25.8 29.4 15.9 35.2 28.\n 22.3 28.8 11.2  9.6 15.7 28.5 15.1 12.5  4.3 26.2 19.9 22.7 21.1 30.3\n 14.6 20.9 26.6 21.9 22.7 32.8 26.4  8.8 23.5 19.8 19.3 32.5 29.3 30.3\n 21.2 27.  20.3 27.3 26.1 27.  18.9 25.2 18.5 14.3 24.9 28.3 45.  16.2\n  5.9 21.8 27.2 17.1 29.8  9.9 19.3 18.6 28.3 20.6 16.3 20.1 30.  42.6\n 18.7 24.2 11.1 16.4 10.5 25.3 21.2 18.9 25.1 29.3 20.2  7.4 14.3 37.2].\nReshape your data either using array.reshape(-1, 1) if your data has a single feature or array.reshape(1, -1) if it contains a single sample."
     ]
    }
   ],
   "source": [
    "model.fit(x_train,x_test)"
   ]
  },
  {
   "cell_type": "code",
   "execution_count": null,
   "metadata": {},
   "outputs": [],
   "source": []
  },
  {
   "cell_type": "code",
   "execution_count": null,
   "metadata": {},
   "outputs": [],
   "source": []
  }
 ],
 "metadata": {
  "kernelspec": {
   "display_name": "Python 3",
   "language": "python",
   "name": "python3"
  },
  "language_info": {
   "codemirror_mode": {
    "name": "ipython",
    "version": 3
   },
   "file_extension": ".py",
   "mimetype": "text/x-python",
   "name": "python",
   "nbconvert_exporter": "python",
   "pygments_lexer": "ipython3",
   "version": "3.10.11"
  }
 },
 "nbformat": 4,
 "nbformat_minor": 2
}
